{
 "cells": [
  {
   "cell_type": "markdown",
   "metadata": {},
   "source": [
    "# NumPy Basics: A Comprehensive Guide\n",
    "\n",
    "NumPy (Numerical Python) is the fundamental package for scientific computing in Python. It provides support for large, multi-dimensional arrays and matrices, along with a collection of mathematical functions to operate on these arrays.\n",
    "\n",
    "## Table of Contents\n",
    "1. [Installation and Import](#installation)\n",
    "2. [Creating Arrays](#creating-arrays)\n",
    "3. [Array Properties](#array-properties)\n",
    "4. [Array Indexing and Slicing](#indexing-slicing)\n",
    "5. [Array Operations](#array-operations)\n",
    "6. [Mathematical Functions](#mathematical-functions)\n",
    "7. [Array Manipulation](#array-manipulation)\n",
    "8. [Broadcasting](#broadcasting)\n",
    "9. [Practical Examples](#practical-examples)\n",
    "10. [Performance Comparison](#performance)"
   ]
  },
  {
   "cell_type": "markdown",
   "metadata": {},
   "source": [
    "## 1. Installation and Import {#installation}\n",
    "\n",
    "First, let's install and import NumPy. NumPy is typically imported as `np` by convention."
   ]
  },
  {
   "cell_type": "code",
   "execution_count": null,
   "metadata": {},
   "outputs": [],
   "source": [
    "# Install NumPy (uncomment if needed)\n",
    "# !pip install numpy\n",
    "\n",
    "import numpy as np\n",
    "import matplotlib.pyplot as plt\n",
    "\n",
    "# Check NumPy version\n",
    "print(f\"NumPy version: {np.__version__}\")"
   ]
  },
  {
   "cell_type": "markdown",
   "metadata": {},
   "source": [
    "## 2. Creating Arrays {#creating-arrays}\n",
    "\n",
    "NumPy arrays are the core of the library. Let's explore different ways to create them."
   ]
  },
  {
   "cell_type": "code",
   "execution_count": null,
   "metadata": {},
   "outputs": [],
   "source": [
    "# Create arrays from Python lists\n",
    "arr1 = np.array([1, 2, 3, 4, 5])\n",
    "arr2 = np.array([[1, 2, 3], [4, 5, 6]])\n",
    "\n",
    "print(\"1D Array:\", arr1)\n",
    "print(\"2D Array:\")\n",
    "print(arr2)"
   ]
  },
  {
   "cell_type": "code",
   "execution_count": null,
   "metadata": {},
   "outputs": [],
   "source": [
    "# Create arrays with built-in functions\n",
    "zeros = np.zeros((3, 4))  # Array of zeros\n",
    "ones = np.ones((2, 3))    # Array of ones\n",
    "empty = np.empty((2, 2))  # Uninitialized array\n",
    "full = np.full((3, 3), 7) # Array filled with specific value\n",
    "\n",
    "print(\"Zeros array:\")\n",
    "print(zeros)\n",
    "print(\"\\nOnes array:\")\n",
    "print(ones)\n",
    "print(\"\\nFull array (filled with 7):\")\n",
    "print(full)"
   ]
  },
  {
   "cell_type": "code",
   "execution_count": null,
   "metadata": {},
   "outputs": [],
   "source": [
    "# Create arrays with ranges\n",
    "range_arr = np.arange(0, 10, 2)      # Start, stop, step\n",
    "linspace_arr = np.linspace(0, 1, 5)  # Start, stop, number of points\n",
    "logspace_arr = np.logspace(0, 2, 5)  # Log scale from 10^0 to 10^2\n",
    "\n",
    "print(\"Range array:\", range_arr)\n",
    "print(\"Linspace array:\", linspace_arr)\n",
    "print(\"Logspace array:\", logspace_arr)"
   ]
  },
  {
   "cell_type": "code",
   "execution_count": null,
   "metadata": {},
   "outputs": [],
   "source": [
    "# Create random arrays\n",
    "np.random.seed(42)  # For reproducibility\n",
    "\n",
    "random_uniform = np.random.random((2, 3))     # Uniform [0, 1)\n",
    "random_normal = np.random.normal(0, 1, (2, 3)) # Normal distribution\n",
    "random_int = np.random.randint(1, 10, (2, 3))  # Random integers\n",
    "\n",
    "print(\"Random uniform [0, 1):\")\n",
    "print(random_uniform)\n",
    "print(\"\\nRandom normal (mean=0, std=1):\")\n",
    "print(random_normal)\n",
    "print(\"\\nRandom integers [1, 10):\")\n",
    "print(random_int)"
   ]
  },
  {
   "cell_type": "markdown",
   "metadata": {},
   "source": [
    "## 3. Array Properties {#array-properties}\n",
    "\n",
    "Let's explore the important properties of NumPy arrays."
   ]
  },
  {
   "cell_type": "code",
   "execution_count": null,
   "metadata": {},
   "outputs": [],
   "source": [
    "# Create a sample array\n",
    "sample_arr = np.array([[1, 2, 3, 4], [5, 6, 7, 8], [9, 10, 11, 12]])\n",
    "\n",
    "print(\"Sample array:\")\n",
    "print(sample_arr)\n",
    "print(f\"\\nShape: {sample_arr.shape}\")        # Dimensions\n",
    "print(f\"Size: {sample_arr.size}\")            # Total number of elements\n",
    "print(f\"Number of dimensions: {sample_arr.ndim}\") # Number of axes\n",
    "print(f\"Data type: {sample_arr.dtype}\")      # Type of elements\n",
    "print(f\"Item size: {sample_arr.itemsize} bytes\") # Size of each element"
   ]
  },
  {
   "cell_type": "code",
   "execution_count": null,
   "metadata": {},
   "outputs": [],
   "source": [
    "# Working with different data types\n",
    "int_arr = np.array([1, 2, 3], dtype=np.int32)\n",
    "float_arr = np.array([1.0, 2.0, 3.0], dtype=np.float64)\n",
    "bool_arr = np.array([True, False, True], dtype=bool)\n",
    "\n",
    "print(f\"Integer array dtype: {int_arr.dtype}\")\n",
    "print(f\"Float array dtype: {float_arr.dtype}\")\n",
    "print(f\"Boolean array dtype: {bool_arr.dtype}\")\n",
    "\n",
    "# Type conversion\n",
    "converted = int_arr.astype(np.float64)\n",
    "print(f\"\\nConverted to float: {converted}, dtype: {converted.dtype}\")"
   ]
  },
  {
   "cell_type": "markdown",
   "metadata": {},
   "source": [
    "## 4. Array Indexing and Slicing {#indexing-slicing}\n",
    "\n",
    "NumPy provides powerful indexing and slicing capabilities."
   ]
  },
  {
   "cell_type": "code",
   "execution_count": null,
   "metadata": {},
   "outputs": [],
   "source": [
    "# Basic indexing\n",
    "arr = np.array([10, 20, 30, 40, 50])\n",
    "print(\"Original array:\", arr)\n",
    "print(f\"First element: {arr[0]}\")\n",
    "print(f\"Last element: {arr[-1]}\")\n",
    "print(f\"Elements 1 to 3: {arr[1:4]}\")\n",
    "print(f\"Every second element: {arr[::2]}\")"
   ]
  },
  {
   "cell_type": "code",
   "execution_count": null,
   "metadata": {},
   "outputs": [],
   "source": [
    "# 2D array indexing\n",
    "arr_2d = np.array([[1, 2, 3], [4, 5, 6], [7, 8, 9]])\n",
    "print(\"2D Array:\")\n",
    "print(arr_2d)\n",
    "print(f\"\\nElement at row 1, col 2: {arr_2d[1, 2]}\")\n",
    "print(f\"First row: {arr_2d[0, :]}\")\n",
    "print(f\"Last column: {arr_2d[:, -1]}\")\n",
    "print(f\"Subarray (rows 0-1, cols 1-2):\")\n",
    "print(arr_2d[0:2, 1:3])"
   ]
  },
  {
   "cell_type": "code",
   "execution_count": null,
   "metadata": {},
   "outputs": [],
   "source": [
    "# Boolean indexing\n",
    "arr = np.array([1, 2, 3, 4, 5, 6, 7, 8, 9, 10])\n",
    "print(\"Original array:\", arr)\n",
    "\n",
    "# Create boolean mask\n",
    "mask = arr > 5\n",
    "print(f\"Boolean mask (arr > 5): {mask}\")\n",
    "print(f\"Elements > 5: {arr[mask]}\")\n",
    "\n",
    "# Direct boolean indexing\n",
    "even_numbers = arr[arr % 2 == 0]\n",
    "print(f\"Even numbers: {even_numbers}\")"
   ]
  },
  {
   "cell_type": "code",
   "execution_count": null,
   "metadata": {},
   "outputs": [],
   "source": [
    "# Fancy indexing (using arrays as indices)\n",
    "arr = np.array([10, 20, 30, 40, 50])\n",
    "indices = np.array([0, 2, 4])\n",
    "print(f\"Original array: {arr}\")\n",
    "print(f\"Indices: {indices}\")\n",
    "print(f\"Selected elements: {arr[indices]}\")\n",
    "\n",
    "# 2D fancy indexing\n",
    "arr_2d = np.array([[1, 2], [3, 4], [5, 6]])\n",
    "row_indices = np.array([0, 1, 2])\n",
    "col_indices = np.array([1, 0, 1])\n",
    "print(f\"\\n2D array:\\n{arr_2d}\")\n",
    "print(f\"Selected elements: {arr_2d[row_indices, col_indices]}\")"
   ]
  },
  {
   "cell_type": "markdown",
   "metadata": {},
   "source": [
    "## 5. Array Operations {#array-operations}\n",
    "\n",
    "NumPy supports element-wise operations and various array manipulations."
   ]
  },
  {
   "cell_type": "code",
   "execution_count": null,
   "metadata": {},
   "outputs": [],
   "source": [
    "# Basic arithmetic operations\n",
    "a = np.array([1, 2, 3, 4])\n",
    "b = np.array([10, 20, 30, 40])\n",
    "\n",
    "print(f\"a = {a}\")\n",
    "print(f\"b = {b}\")\n",
    "print(f\"a + b = {a + b}\")\n",
    "print(f\"a - b = {a - b}\")\n",
    "print(f\"a * b = {a * b}\")\n",
    "print(f\"b / a = {b / a}\")\n",
    "print(f\"a ** 2 = {a ** 2}\")"
   ]
  },
  {
   "cell_type": "code",
   "execution_count": null,
   "metadata": {},
   "outputs": [],
   "source": [
    "# Operations with scalars\n",
    "arr = np.array([1, 2, 3, 4, 5])\n",
    "print(f\"Original array: {arr}\")\n",
    "print(f\"arr + 10 = {arr + 10}\")\n",
    "print(f\"arr * 2 = {arr * 2}\")\n",
    "print(f\"arr / 2 = {arr / 2}\")"
   ]
  },
  {
   "cell_type": "code",
   "execution_count": null,
   "metadata": {},
   "outputs": [],
   "source": [
    "# Comparison operations\n",
    "a = np.array([1, 2, 3, 4, 5])\n",
    "b = np.array([1, 4, 2, 4, 6])\n",
    "\n",
    "print(f\"a = {a}\")\n",
    "print(f\"b = {b}\")\n",
    "print(f\"a == b: {a == b}\")\n",
    "print(f\"a > b: {a > b}\")\n",
    "print(f\"a >= 3: {a >= 3}\")"
   ]
  },
  {
   "cell_type": "code",
   "execution_count": null,
   "metadata": {},
   "outputs": [],
   "source": [
    "# Matrix operations\n",
    "matrix_a = np.array([[1, 2], [3, 4]])\n",
    "matrix_b = np.array([[5, 6], [7, 8]])\n",
    "\n",
    "print(\"Matrix A:\")\n",
    "print(matrix_a)\n",
    "print(\"\\nMatrix B:\")\n",
    "print(matrix_b)\n",
    "\n",
    "# Element-wise multiplication\n",
    "print(\"\\nElement-wise multiplication (A * B):\")\n",
    "print(matrix_a * matrix_b)\n",
    "\n",
    "# Matrix multiplication\n",
    "print(\"\\nMatrix multiplication (A @ B):\")\n",
    "print(matrix_a @ matrix_b)\n",
    "\n",
    "# Alternative matrix multiplication\n",
    "print(\"\\nMatrix multiplication (np.dot):\")\n",
    "print(np.dot(matrix_a, matrix_b))"
   ]
  },
  {
   "cell_type": "markdown",
   "metadata": {},
   "source": [
    "## 6. Mathematical Functions {#mathematical-functions}\n",
    "\n",
    "NumPy provides a wide range of mathematical functions."
   ]
  },
  {
   "cell_type": "code",
   "execution_count": null,
   "metadata": {},
   "outputs": [],
   "source": [
    "# Trigonometric functions\n",
    "angles = np.array([0, np.pi/4, np.pi/2, np.pi])\n",
    "print(f\"Angles: {angles}\")\n",
    "print(f\"Sine: {np.sin(angles)}\")\n",
    "print(f\"Cosine: {np.cos(angles)}\")\n",
    "print(f\"Tangent: {np.tan(angles)}\")"
   ]
  },
  {
   "cell_type": "code",
   "execution_count": null,
   "metadata": {},
   "outputs": [],
   "source": [
    "# Exponential and logarithmic functions\n",
    "arr = np.array([1, 2, 3, 4, 5])\n",
    "print(f\"Original array: {arr}\")\n",
    "print(f\"Exponential: {np.exp(arr)}\")\n",
    "print(f\"Natural log: {np.log(arr)}\")\n",
    "print(f\"Log base 10: {np.log10(arr)}\")\n",
    "print(f\"Square root: {np.sqrt(arr)}\")"
   ]
  },
  {
   "cell_type": "code",
   "execution_count": null,
   "metadata": {},
   "outputs": [],
   "source": [
    "# Statistical functions\n",
    "data = np.array([[1, 2, 3], [4, 5, 6], [7, 8, 9]])\n",
    "print(\"Data:\")\n",
    "print(data)\n",
    "\n",
    "print(f\"\\nSum: {np.sum(data)}\")\n",
    "print(f\"Mean: {np.mean(data)}\")\n",
    "print(f\"Median: {np.median(data)}\")\n",
    "print(f\"Standard deviation: {np.std(data)}\")\n",
    "print(f\"Variance: {np.var(data)}\")\n",
    "print(f\"Min: {np.min(data)}\")\n",
    "print(f\"Max: {np.max(data)}\")"
   ]
  },
  {
   "cell_type": "code",
   "execution_count": null,
   "metadata": {},
   "outputs": [],
   "source": [
    "# Axis-specific operations\n",
    "data = np.array([[1, 2, 3], [4, 5, 6], [7, 8, 9]])\n",
    "print(\"Data:\")\n",
    "print(data)\n",
    "\n",
    "print(f\"\\nSum along axis 0 (columns): {np.sum(data, axis=0)}\")\n",
    "print(f\"Sum along axis 1 (rows): {np.sum(data, axis=1)}\")\n",
    "print(f\"Mean along axis 0: {np.mean(data, axis=0)}\")\n",
    "print(f\"Mean along axis 1: {np.mean(data, axis=1)}\")"
   ]
  },
  {
   "cell_type": "markdown",
   "metadata": {},
   "source": [
    "## 7. Array Manipulation {#array-manipulation}\n",
    "\n",
    "NumPy provides various functions to manipulate array shapes and combine arrays."
   ]
  },
  {
   "cell_type": "code",
   "execution_count": null,
   "metadata": {},
   "outputs": [],
   "source": [
    "# Reshaping arrays\n",
    "arr = np.arange(12)\n",
    "print(f\"Original array: {arr}\")\n",
    "print(f\"Shape: {arr.shape}\")\n",
    "\n",
    "# Reshape to 2D\n",
    "reshaped_2d = arr.reshape(3, 4)\n",
    "print(f\"\\nReshaped to 3x4:\")\n",
    "print(reshaped_2d)\n",
    "\n",
    "# Reshape to 3D\n",
    "reshaped_3d = arr.reshape(2, 2, 3)\n",
    "print(f\"\\nReshaped to 2x2x3:\")\n",
    "print(reshaped_3d)\n",
    "\n",
    "# Flatten back to 1D\n",
    "flattened = reshaped_2d.flatten()\n",
    "print(f\"\\nFlattened: {flattened}\")"
   ]
  },
  {
   "cell_type": "code",
   "execution_count": null,
   "metadata": {},
   "outputs": [],
   "source": [
    "# Transposing arrays\n",
    "matrix = np.array([[1, 2, 3], [4, 5, 6]])\n",
    "print(\"Original matrix:\")\n",
    "print(matrix)\n",
    "print(f\"Shape: {matrix.shape}\")\n",
    "\n",
    "transposed = matrix.T\n",
    "print(\"\\nTransposed matrix:\")\n",
    "print(transposed)\n",
    "print(f\"Shape: {transposed.shape}\")"
   ]
  },
  {
   "cell_type": "code",
   "execution_count": null,
   "metadata": {},
   "outputs": [],
   "source": [
    "# Joining arrays\n",
    "arr1 = np.array([1, 2, 3])\n",
    "arr2 = np.array([4, 5, 6])\n",
    "\n",
    "print(f\"Array 1: {arr1}\")\n",
    "print(f\"Array 2: {arr2}\")\n",
    "\n",
    "# Concatenate\n",
    "concatenated = np.concatenate([arr1, arr2])\n",
    "print(f\"Concatenated: {concatenated}\")\n",
    "\n",
    "# Stack vertically and horizontally\n",
    "matrix1 = np.array([[1, 2], [3, 4]])\n",
    "matrix2 = np.array([[5, 6], [7, 8]])\n",
    "\n",
    "vstack_result = np.vstack([matrix1, matrix2])\n",
    "hstack_result = np.hstack([matrix1, matrix2])\n",
    "\n",
    "print(f\"\\nMatrix 1:\\n{matrix1}\")\n",
    "print(f\"\\nMatrix 2:\\n{matrix2}\")\n",
    "print(f\"\\nVertical stack:\\n{vstack_result}\")\n",
    "print(f\"\\nHorizontal stack:\\n{hstack_result}\")"
   ]
  },
  {
   "cell_type": "code",
   "execution_count": null,
   "metadata": {},
   "outputs": [],
   "source": [
    "# Splitting arrays\n",
    "arr = np.arange(12)\n",
    "print(f\"Original array: {arr}\")\n",
    "\n",
    "# Split into equal parts\n",
    "split_result = np.split(arr, 3)\n",
    "print(f\"Split into 3 parts: {split_result}\")\n",
    "\n",
    "# Split at specific indices\n",
    "split_indices = np.split(arr, [3, 7])\n",
    "print(f\"Split at indices [3, 7]: {split_indices}\")"
   ]
  },
  {
   "cell_type": "markdown",
   "metadata": {},
   "source": [
    "## 8. Broadcasting {#broadcasting}\n",
    "\n",
    "Broadcasting allows NumPy to perform operations on arrays with different shapes."
   ]
  },
  {
   "cell_type": "code",
   "execution_count": null,
   "metadata": {},
   "outputs": [],
   "source": [
    "# Basic broadcasting\n",
    "arr = np.array([[1, 2, 3], [4, 5, 6], [7, 8, 9]])\n",
    "scalar = 10\n",
    "\n",
    "print(\"Original array:\")\n",
    "print(arr)\n",
    "print(f\"\\nAdding scalar {scalar}:\")\n",
    "print(arr + scalar)"
   ]
  },
  {
   "cell_type": "code",
   "execution_count": null,
   "metadata": {},
   "outputs": [],
   "source": [
    "# Broadcasting with different shaped arrays\n",
    "matrix = np.array([[1, 2, 3], [4, 5, 6], [7, 8, 9]])\n",
    "row_vector = np.array([10, 20, 30])\n",
    "col_vector = np.array([[100], [200], [300]])\n",
    "\n",
    "print(\"Matrix:\")\n",
    "print(matrix)\n",
    "print(f\"\\nRow vector: {row_vector}\")\n",
    "print(\"Matrix + row vector:\")\n",
    "print(matrix + row_vector)\n",
    "\n",
    "print(f\"\\nColumn vector:\\n{col_vector}\")\n",
    "print(\"Matrix + column vector:\")\n",
    "print(matrix + col_vector)"
   ]
  },
  {
   "cell_type": "code",
   "execution_count": null,
   "metadata": {},
   "outputs": [],
   "source": [
    "# Understanding broadcasting rules\n",
    "# Arrays are aligned from the rightmost dimension\n",
    "a = np.ones((3, 4, 5))\n",
    "b = np.ones((4, 5))    # Can broadcast\n",
    "c = np.ones((3, 1, 5)) # Can broadcast\n",
    "d = np.ones((3, 4, 1)) # Can broadcast\n",
    "\n",
    "print(f\"Array a shape: {a.shape}\")\n",
    "print(f\"Array b shape: {b.shape}\")\n",
    "print(f\"Array c shape: {c.shape}\")\n",
    "print(f\"Array d shape: {d.shape}\")\n",
    "\n",
    "print(f\"\\na + b result shape: {(a + b).shape}\")\n",
    "print(f\"a + c result shape: {(a + c).shape}\")\n",
    "print(f\"a + d result shape: {(a + d).shape}\")"
   ]
  },
  {
   "cell_type": "markdown",
   "metadata": {},
   "source": [
    "## 9. Practical Examples {#practical-examples}\n",
    "\n",
    "Let's see NumPy in action with some real-world examples."
   ]
  },
  {
   "cell_type": "code",
   "execution_count": null,
   "metadata": {},
   "outputs": [],
   "source": [
    "# Example 1: Image processing simulation\n",
    "# Create a simple \"image\" (2D array)\n",
    "np.random.seed(42)\n",
    "image = np.random.randint(0, 256, (100, 100))\n",
    "\n",
    "print(f\"Image shape: {image.shape}\")\n",
    "print(f\"Image data type: {image.dtype}\")\n",
    "print(f\"Pixel value range: {image.min()} to {image.max()}\")\n",
    "\n",
    "# Apply simple operations\n",
    "# Increase brightness\n",
    "bright_image = np.clip(image + 50, 0, 255)\n",
    "\n",
    "# Apply a simple blur (3x3 average filter)\n",
    "def simple_blur(img):\n",
    "    blurred = np.zeros_like(img)\n",
    "    for i in range(1, img.shape[0] - 1):\n",
    "        for j in range(1, img.shape[1] - 1):\n",
    "            blurred[i, j] = np.mean(img[i-1:i+2, j-1:j+2])\n",
    "    return blurred\n",
    "\n",
    "blurred_image = simple_blur(image)\n",
    "\n",
    "print(f\"\\nBrightened image range: {bright_image.min()} to {bright_image.max()}\")\n",
    "print(f\"Blurred image range: {blurred_image.min():.1f} to {blurred_image.max():.1f}\")"
   ]
  },
  {
   "cell_type": "code",
   "execution_count": null,
   "metadata": {},
   "outputs": [],
   "source": [
    "# Example 2: Financial data analysis\n",
    "# Simulate stock prices\n",
    "np.random.seed(42)\n",
    "days = 252  # Trading days in a year\n",
    "initial_price = 100\n",
    "daily_returns = np.random.normal(0.001, 0.02, days)  # Mean 0.1%, std 2%\n",
    "prices = initial_price * np.cumprod(1 + daily_returns)\n",
    "\n",
    "print(f\"Initial price: ${initial_price:.2f}\")\n",
    "print(f\"Final price: ${prices[-1]:.2f}\")\n",
    "print(f\"Total return: {((prices[-1] / initial_price) - 1) * 100:.2f}%\")\n",
    "\n",
    "# Calculate moving averages\n",
    "def moving_average(data, window):\n",
    "    return np.convolve(data, np.ones(window)/window, mode='valid')\n",
    "\n",
    "ma_20 = moving_average(prices, 20)\n",
    "ma_50 = moving_average(prices, 50)\n",
    "\n",
    "print(f\"\\n20-day MA final value: ${ma_20[-1]:.2f}\")\n",
    "print(f\"50-day MA final value: ${ma_50[-1]:.2f}\")\n"]
 
  }
 ]
}