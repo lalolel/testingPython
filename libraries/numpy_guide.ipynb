{
 "cells": [
  {
   "cell_type": "markdown",
   "metadata": {},
   "source": [
    "# NumPy Basics Guide\n",
    "\n",
    "NumPy (Numerical Python) is the fundamental package for scientific computing in Python. It provides support for large, multi-dimensional arrays and matrices, along with mathematical functions to operate on these arrays."
   ]
  },
  {
   "cell_type": "markdown",
   "metadata": {},
   "source": [
    "## 1. Importing NumPy"
   ]
  },
  {
   "cell_type": "code",
   "execution_count": null,
   "metadata": {},
   "outputs": [],
   "source": [
    "import numpy as np\n",
    "print(f\"NumPy version: {np.__version__}\")"
   ]
  },
  {
   "cell_type": "markdown",
   "metadata": {},
   "source": [
    "## 2. Creating Arrays"
   ]
  },
  {
   "cell_type": "code",
   "execution_count": null,
   "metadata": {},
   "outputs": [],
   "source": [
    "# From Python lists\n",
    "arr1 = np.array([1, 2, 3, 4, 5])\n",
    "arr2 = np.array([[1, 2, 3], [4, 5, 6]])\n",
    "\n",
    "print(\"1D array:\", arr1)\n",
    "print(\"2D array:\")\n",
    "print(arr2)\n",
    "\n",
    "# Using built-in functions\n",
    "zeros = np.zeros((3, 4))  # 3x4 array of zeros\n",
    "ones = np.ones((2, 3))    # 2x3 array of ones\n",
    "empty = np.empty((2, 2))  # Uninitialized array\n",
    "identity = np.eye(3)      # 3x3 identity matrix\n",
    "\n",
    "print(\"\\nZeros array:\")\n",
    "print(zeros)\n",
    "print(\"\\nIdentity matrix:\")\n",
    "print(identity)"
   ]
  },
  {
   "cell_type": "markdown",
   "metadata": {},
   "source": [
    "## 3. Array Ranges and Sequences"
   ]
  },
  {
   "cell_type": "code",
   "execution_count": null,
   "metadata": {},
   "outputs": [],
   "source": [
    "# Range arrays\n",
    "range_arr = np.arange(0, 10, 2)  # start, stop, step\n",
    "linspace_arr = np.linspace(0, 1, 5)  # start, stop, num_points\n",
    "\n",
    "print(\"arange(0, 10, 2):\", range_arr)\n",
    "print(\"linspace(0, 1, 5):\", linspace_arr)\n",
    "\n",
    "# Random arrays\n",
    "random_arr = np.random.random((2, 3))  # Random values between 0 and 1\n",
    "random_int = np.random.randint(1, 10, size=(3, 3))  # Random integers\n",
    "\n",
    "print(\"\\nRandom array:\")\n",
    "print(random_arr)\n",
    "print(\"\\nRandom integers:\")\n",
    "print(random_int)"
   ]
  },
  {
   "cell_type": "markdown",
   "metadata": {},
   "source": [
    "## 4. Array Properties"
   ]
  },
  {
   "cell_type": "code",
   "execution_count": null,
   "metadata": {},
   "outputs": [],
   "source": [
    "arr = np.array([[1, 2, 3], [4, 5, 6], [7, 8, 9]])\n",
    "\n",
    "print(\"Array:\")\n",
    "print(arr)\n",
    "print(f\"Shape: {arr.shape}\")        # Dimensions\n",
    "print(f\"Size: {arr.size}\")          # Total number of elements\n",
    "print(f\"Ndim: {arr.ndim}\")          # Number of dimensions\n",
    "print(f\"Dtype: {arr.dtype}\")        # Data type\n",
    "print(f\"Itemsize: {arr.itemsize}\")  # Size of each element in bytes"
   ]
  },
  {
   "cell_type": "markdown",
   "metadata": {},
   "source": [
    "## 5. Array Indexing and Slicing"
   ]
  },
  {
   "cell_type": "code",
   "execution_count": null,
   "metadata": {},
   "outputs": [],
   "source": [
    "arr = np.array([0, 1, 2, 3, 4, 5, 6, 7, 8, 9])\n",
    "arr_2d = np.array([[1, 2, 3], [4, 5, 6], [7, 8, 9]])\n",
    "\n",
    "# 1D indexing\n",
    "print(\"Original array:\", arr)\n",
    "print(\"arr[3]:\", arr[3])           # Single element\n",
    "print(\"arr[2:6]:\", arr[2:6])       # Slice\n",
    "print(\"arr[-1]:\", arr[-1])         # Last element\n",
    "print(\"arr[::2]:\", arr[::2])       # Every second element\n",
    "\n",
    "# 2D indexing\n",
    "print(\"\\n2D array:\")\n",
    "print(arr_2d)\n",
    "print(\"arr_2d[1, 2]:\", arr_2d[1, 2])     # Element at row 1, column 2\n",
    "print(\"arr_2d[0, :]:\", arr_2d[0, :])     # First row\n",
    "print(\"arr_2d[:, 1]:\", arr_2d[:, 1])     # Second column"
   ]
  },
  {
   "cell_type": "markdown",
   "metadata": {},
   "source": [
    "## 6. Boolean Indexing"
   ]
  },
  {
   "cell_type": "code",
   "execution_count": null,
   "metadata": {},
   "outputs": [],
   "source": [
    "arr = np.array([1, 2, 3, 4, 5, 6, 7, 8, 9])\n",
    "\n",
    "# Boolean conditions\n",
    "condition = arr > 5\n",
    "print(\"Array:\", arr)\n",
    "print(\"Condition (arr > 5):\", condition)\n",
    "print(\"Elements > 5:\", arr[condition])\n",
    "\n",
    "# Multiple conditions\n",
    "print(\"Elements between 3 and 7:\", arr[(arr >= 3) & (arr <= 7)])\n",
    "print(\"Even numbers:\", arr[arr % 2 == 0])"
   ]
  },
  {
   "cell_type": "markdown",
   "metadata": {},
   "source": [
    "## 7. Array Operations"
   ]
  },
  {
   "cell_type": "code",
   "execution_count": null,
   "metadata": {},
   "outputs": [],
   "source": [
    "a = np.array([1, 2, 3, 4])\n",
    "b = np.array([10, 20, 30, 40])\n",
    "\n",
    "# Arithmetic operations (element-wise)\n",
    "print(\"a =\", a)\n",
    "print(\"b =\", b)\n",
    "print(\"a + b =\", a + b)\n",
    "print(\"a - b =\", a - b)\n",
    "print(\"a * b =\", a * b)\n",
    "print(\"a / b =\", a / b)\n",
    "print(\"a ** 2 =\", a ** 2)\n",
    "\n",
    "# Scalar operations\n",
    "print(\"\\nScalar operations:\")\n",
    "print(\"a + 10 =\", a + 10)\n",
    "print(\"a * 3 =\", a * 3)"
   ]
  },
  {
   "cell_type": "markdown",
   "metadata": {},
   "source": [
    "## 8. Mathematical Functions"
   ]
  },
  {
   "cell_type": "code",
   "execution_count": null,
   "metadata": {},
   "outputs": [],
   "source": [
    "arr = np.array([1, 4, 9, 16, 25])\n",
    "\n",
    "print(\"Array:\", arr)\n",
    "print(\"Square root:\", np.sqrt(arr))\n",
    "print(\"Logarithm:\", np.log(arr))\n",
    "print(\"Exponential:\", np.exp([1, 2, 3]))\n",
    "\n",
    "# Trigonometric functions\n",
    "angles = np.array([0, np.pi/6, np.pi/4, np.pi/3, np.pi/2])\n",
    "print(\"\\nAngles:\", angles)\n",
    "print(\"sin(angles):\", np.sin(angles))\n",
    "print(\"cos(angles):\", np.cos(angles))"
   ]
  },
  {
   "cell_type": "markdown",
   "metadata": {},
   "source": [
    "## 9. Aggregation Functions"
   ]
  },
  {
   "cell_type": "code",
   "execution_count": null,
   "metadata": {},
   "outputs": [],
   "source": [
    "arr = np.array([[1, 2, 3], [4, 5, 6], [7, 8, 9]])\n",
    "\n",
    "print(\"Array:\")\n",
    "print(arr)\n",
    "print(f\"Sum: {np.sum(arr)}\")\n",
    "print(f\"Mean: {np.mean(arr)}\")\n",
    "print(f\"Standard deviation: {np.std(arr)}\")\n",
    "print(f\"Min: {np.min(arr)}\")\n",
    "print(f\"Max: {np.max(arr)}\")\n",
    "\n",
    "# Along specific axes\n",
    "print(\"\\nAlong axes:\")\n",
    "print(f\"Sum along rows (axis=0): {np.sum(arr, axis=0)}\")\n",
    "print(f\"Sum along columns (axis=1): {np.sum(arr, axis=1)}\")\n",
    "print(f\"Min index: {np.argmin(arr)}\")\n",
    "print(f\"Max index: {np.argmax(arr)}\")"
   ]
  },
  {
   "cell_type": "markdown",
   "metadata": {},
   "source": [
    "## 10. Array Reshaping"
   ]
  },
  {
   "cell_type": "code",
   "execution_count": null,
   "metadata": {},
   "outputs": [],
   "source": [
    "arr = np.arange(12)\n",
    "print(\"Original array:\", arr)\n",
    "\n",
    "# Reshape\n",
    "reshaped = arr.reshape(3, 4)\n",
    "print(\"\\nReshaped (3x4):\")\n",
    "print(reshaped)\n",
    "\n",
    "# Flatten\n",
    "flattened = reshaped.flatten()\n",
    "print(\"\\nFlattened:\", flattened)\n",
    "\n",
    "# Transpose\n",
    "transposed = reshaped.T\n",
    "print(\"\\nTransposed:\")\n",
    "print(transposed)\n",
    "\n",
    "# Add dimension\n",
    "expanded = np.expand_dims(arr, axis=0)\n",
    "print(f\"\\nExpanded dimensions: {expanded.shape}\")\n",
    "print(expanded)"
   ]
  },
  {
   "cell_type": "markdown",
   "metadata": {},
   "source": [
    "## 11. Array Concatenation and Splitting"
   ]
  },
  {
   "cell_type": "code",
   "execution_count": null,
   "metadata": {},
   "outputs": [],
   "source": [
    "a = np.array([1, 2, 3])\n",
    "b = np.array([4, 5, 6])\n",
    "\n",
    "# Concatenation\n",
    "concatenated = np.concatenate([a, b])\n",
    "print(\"Concatenated:\", concatenated)\n",
    "\n",
    "# Vertical and horizontal stacking\n",
    "arr1 = np.array([[1, 2], [3, 4]])\n",
    "arr2 = np.array([[5, 6], [7, 8]])\n",
    "\n",
    "v_stacked = np.vstack([arr1, arr2])\n",
    "h_stacked = np.hstack([arr1, arr2])\n",
    "\n",
    "print(\"\\nVertical stack:\")\n",
    "print(v_stacked)\n",
    "print(\"\\nHorizontal stack:\")\n",
    "print(h_stacked)\n",
    "\n",
    "# Splitting\n",
    "arr = np.arange(9)\n",
    "split_arr = np.split(arr, 3)\n",
    "print(\"\\nSplit array:\", split_arr)"
   ]
  },
  {
   "cell_type": "markdown",
   "metadata": {},
   "source": [
    "## 12. Linear Algebra"
   ]
  },
  {
   "cell_type": "code",
   "execution_count": null,
   "metadata": {},
   "outputs": [],
   "source": [
    "# Matrix operations\n",
    "A = np.array([[1, 2], [3, 4]])\n",
    "B = np.array([[5, 6], [7, 8]])\n",
    "\n",
    "print(\"Matrix A:\")\n",
    "print(A)\n",
    "print(\"\\nMatrix B:\")\n",
    "print(B)\n",
    "\n",
    "# Matrix multiplication\n",
    "print(\"\\nMatrix multiplication (A @ B):\")\n",
    "print(A @ B)\n",
    "\n",
    "# Other linear algebra operations\n",
    "print(f\"\\nDeterminant of A: {np.linalg.det(A)}\")\n",
    "print(f\"Trace of A: {np.trace(A)}\")\n",
    "\n",
    "# Eigenvalues and eigenvectors\n",
    "eigenvals, eigenvecs = np.linalg.eig(A)\n",
    "print(f\"\\nEigenvalues: {eigenvals}\")\n",
    "print(\"Eigenvectors:\")\n",
    "print(eigenvecs)"
   ]
  },
  {
   "cell_type": "markdown",
   "metadata": {},
   "source": [
    "## 13. Working with Different Data Types"
   ]
  },
  {
   "cell_type": "code",
   "execution_count": null,
   "metadata": {},
   "outputs": [],
   "source": [
    "# Specify data type\n",
    "int_arr = np.array([1, 2, 3], dtype=np.int32)\n",
    "float_arr = np.array([1, 2, 3], dtype=np.float64)\n",
    "bool_arr = np.array([True, False, True], dtype=np.bool_)\n",
    "\n",
    "print(f\"Integer array: {int_arr}, dtype: {int_arr.dtype}\")\n",
    "print(f\"Float array: {float_arr}, dtype: {float_arr.dtype}\")\n",
    "print(f\"Boolean array: {bool_arr}, dtype: {bool_arr.dtype}\")\n",
    "\n",
    "# Type conversion\n",
    "converted = int_arr.astype(np.float64)\n",
    "print(f\"\\nConverted to float: {converted}, dtype: {converted.dtype}\")"
   ]
  },
  {
   "cell_type": "markdown",
   "metadata": {},
   "source": [
    "## 14. Practical Example: Statistics on Random Data"
   ]
  },
  {
   "cell_type": "code",
   "execution_count": null,
   "metadata": {},
   "outputs": [],
   "source": [
    "# Generate random data\n",
    "np.random.seed(42)  # For reproducibility\n",
    "data = np.random.normal(100, 15, 1000)  # Mean=100, std=15, 1000 samples\n",
    "\n",
    "print(f\"Dataset shape: {data.shape}\")\n",
    "print(f\"Mean: {np.mean(data):.2f}\")\n",
    "print(f\"Standard deviation: {np.std(data):.2f}\")\n",
    "print(f\"Min: {np.min(data):.2f}\")\n",
    "print(f\"Max: {np.max(data):.2f}\")\n",
    "print(f\"Median: {np.median(data):.2f}\")\n",
    "\n",
    "# Percentiles\n",
    "print(f\"25th percentile: {np.percentile(data, 25):.2f}\")\n",
    "print(f\"75th percentile: {np.percentile(data, 75):.2f}\")\n",
    "\n",
    "# Count values in range\n",
    "count_in_range = np.sum((data >= 90) & (data <= 110))\n",
    "print(f\"\\nValues between 90 and 110: {count_in_range}\")\n",
    "print(f\"Percentage: {count_in_range/len(data)*100:.1f}%\")"
   ]
  }
 ],
 "metadata": {
  "kernelspec": {
   "display_name": "Python 3",
   "language": "python",
   "name": "python3"
  },
  "language_info": {
   "codemirror_mode": {
    "name": "ipython",
    "version": 3
   },
   "file_extension": ".py",
   "mimetype": "text/x-python",
   "name": "python",
   "nbconvert_exporter": "python",
   "pygments_lexer": "ipython3",
   "version": "3.8.5"
  }
 },
 "nbformat": 4,
 "nbformat_minor": 4
}