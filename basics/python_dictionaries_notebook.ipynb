{
  "cells": [
    {
      "cell_type": "markdown",
      "metadata": {},
      "source": [
        "# Python Dictionaries Tutorial\n",
        "\n",
        "This notebook covers essential dictionary operations in Python, from basic access to advanced manipulation techniques.\n",
        "\n",
        "## What are Dictionaries?\n",
        "\n",
        "Dictionaries are Python's built-in data structure for storing key-value pairs. They are:\n",
        "- **Mutable**: Can be changed after creation\n",
        "- **Unordered**: Items don't have a defined order (Python 3.7+ maintains insertion order)\n",
        "- **Indexed by keys**: Access values using unique keys instead of numeric indices\n",
        "\n",
        "---"
      ]
    },
    {
      "cell_type": "markdown",
      "metadata": {},
      "source": [
        "## 1. Dictionary Basics - Accessing Values\n",
        "\n",
        "The most fundamental operation with dictionaries is accessing values using their keys. You can use square bracket notation `dict[key]` to retrieve values.\n",
        "\n",
        "**Key Points:**\n",
        "- Use square brackets with the key to access values\n",
        "- Keys must exist or you'll get a `KeyError`\n",
        "- Values can be any data type, including lists"
      ]
    },
    {
      "cell_type": "code",
      "execution_count": null,
      "metadata": {},
      "outputs": [],
      "source": [
        "# Dictionary basics - accessing values by key\n",
        "zodiac_elements = {\n",
        "    \"water\": [\"Cancer\", \"Scorpio\", \"Pisces\"], \n",
        "    \"fire\": [\"Aries\", \"Leo\", \"Sagittarius\"], \n",
        "    \"earth\": [\"Taurus\", \"Virgo\", \"Capricorn\"], \n",
        "    \"air\": [\"Gemini\", \"Libra\", \"Aquarius\"]\n",
        "}\n",
        "\n",
        "print(zodiac_elements['earth'])\n",
        "print(zodiac_elements['fire'])"
      ]
    },
    {
      "cell_type": "markdown",
      "metadata": {},
      "source": [
        "### Adding New Key-Value Pairs and Checking Membership\n",
        "\n",
        "You can add new items to a dictionary by assigning a value to a new key. The `in` operator checks if a key exists in the dictionary."
      ]
    },
    {
      "cell_type": "code",
      "execution_count": null,
      "metadata": {},
      "outputs": [],
      "source": [
        "# Adding new key-value pairs and checking membership\n",
        "zodiac_elements = {\n",
        "    \"water\": [\"Cancer\", \"Scorpio\", \"Pisces\"], \n",
        "    \"fire\": [\"Aries\", \"Leo\", \"Sagittarius\"], \n",
        "    \"earth\": [\"Taurus\", \"Virgo\", \"Capricorn\"], \n",
        "    \"air\": [\"Gemini\", \"Libra\", \"Aquarius\"]\n",
        "}\n",
        "\n",
        "# Add a new key-value pair\n",
        "zodiac_elements[\"energy\"] = \"Not a Zodiac element\"\n",
        "\n",
        "# Check if key exists before accessing\n",
        "if \"energy\" in zodiac_elements:\n",
        "    print(zodiac_elements[\"energy\"])"
      ]
    },
    {
      "cell_type": "markdown",
      "metadata": {},
      "source": [
        "## 2. Safe Dictionary Access with `.get()`\n",
        "\n",
        "The `.get()` method provides a safe way to access dictionary values without risking a `KeyError`. It returns a default value if the key doesn't exist.\n",
        "\n",
        "**Syntax:** `dict.get(key, default_value)`\n",
        "\n",
        "**Benefits:**\n",
        "- Prevents crashes when accessing non-existent keys\n",
        "- Allows you to specify a fallback value\n",
        "- More robust than direct key access"
      ]
    },
    {
      "cell_type": "code",
      "execution_count": null,
      "metadata": {},
      "outputs": [],
      "source": [
        "# Safe dictionary access with .get()\n",
        "user_ids = {\n",
        "    \"teraCoder\": 100019, \n",
        "    \"pythonGuy\": 182921, \n",
        "    \"samTheJavaMaam\": 123112, \n",
        "    \"lyleLoop\": 102931, \n",
        "    \"keysmithKeith\": 129384\n",
        "}\n",
        "\n",
        "# Get existing key - returns the actual value\n",
        "tc_id = user_ids.get(\"teraCoder\", 100000)\n",
        "\n",
        "# Get non-existent key - returns the default value\n",
        "stack_id = user_ids.get(\"superStackSmash\", 100000)\n",
        "\n",
        "print(f\"teraCoder ID: {tc_id}\")\n",
        "print(f\"superStackSmash ID: {stack_id}\")"
      ]
    },
    {
      "cell_type": "markdown",
      "metadata": {},
      "source": [
        "## 3. Removing Items with `.pop()`\n",
        "\n",
        "The `.pop()` method removes a key-value pair from the dictionary and returns the value. Like `.get()`, it accepts a default value to return if the key doesn't exist.\n",
        "\n",
        "**Syntax:** `dict.pop(key, default_value)`\n",
        "\n",
        "**Use Cases:**\n",
        "- Consuming items from a dictionary (like inventory management)\n",
        "- Safely removing keys that might not exist\n",
        "- Getting and removing a value in one operation"
      ]
    },
    {
      "cell_type": "code",
      "execution_count": null,
      "metadata": {},
      "outputs": [],
      "source": [
        "# Removing items with .pop()\n",
        "available_items = {\n",
        "    \"health potion\": 10, \n",
        "    \"cake of the cure\": 5, \n",
        "    \"green elixir\": 20, \n",
        "    \"strength sandwich\": 25, \n",
        "    \"stamina grains\": 15, \n",
        "    \"power stew\": 30\n",
        "}\n",
        "\n",
        "health_points = 20\n",
        "\n",
        "# Remove and use existing items\n",
        "health_points += available_items.pop(\"stamina grains\", 0)  # Removes and adds 15\n",
        "health_points += available_items.pop(\"power stew\", 0)     # Removes and adds 30\n",
        "\n",
        "# Try to remove non-existent item - returns default value (0)\n",
        "health_points += available_items.pop(\"mystic bread\", 0)   # Adds 0, no error\n",
        "\n",
        "print(f\"Remaining items: {available_items}\")\n",
        "print(f\"Total health points: {health_points}\")"
      ]
    },
    {
      "cell_type": "markdown",
      "metadata": {},
      "source": [
        "## 4. Dictionary Keys with `.keys()`\n",
        "\n",
        "The `.keys()` method returns a view object containing all the keys in the dictionary. This is useful for:\n",
        "- Iterating over all keys\n",
        "- Converting to a list for further processing\n",
        "- Checking what keys are available\n",
        "\n",
        "**Note:** The returned object is a view, not a list. It reflects changes to the original dictionary."
      ]
    },
    {
      "cell_type": "code",
      "execution_count": null,
      "metadata": {},
      "outputs": [],
      "source": [
        "# Getting dictionary keys\n",
        "user_ids = {\n",
        "    \"teraCoder\": 100019, \n",
        "    \"pythonGuy\": 182921, \n",
        "    \"samTheJavaMaam\": 123112, \n",
        "    \"lyleLoop\": 102931, \n",
        "    \"keysmithKeith\": 129384\n",
        "}\n",
        "\n",
        "num_exercises = {\n",
        "    \"functions\": 10, \n",
        "    \"syntax\": 13, \n",
        "    \"control flow\": 15, \n",
        "    \"loops\": 22, \n",
        "    \"lists\": 19, \n",
        "    \"classes\": 18, \n",
        "    \"dictionaries\": 18\n",
        "}\n",
        "\n",
        "# Get all keys from both dictionaries\n",
        "users = user_ids.keys()\n",
        "lessons = num_exercises.keys()\n",
        "\n",
        "print(f\"Available users: {list(users)}\")\n",
        "print(f\"Available lessons: {list(lessons)}\")"
      ]
    },
    {
      "cell_type": "markdown",
      "metadata": {},
      "source": [
        "## 5. Dictionary Values with `.values()`\n",
        "\n",
        "The `.values()` method returns a view object containing all the values in the dictionary. This is perfect for:\n",
        "- Performing calculations on all values\n",
        "- Finding patterns in the data\n",
        "- Aggregating information\n",
        "\n",
        "**Common Pattern:** Using a loop to process all values, such as summing numbers."
      ]
    },
    {
      "cell_type": "code",
      "execution_count": null,
      "metadata": {},
      "outputs": [],
      "source": [
        "# Working with dictionary values\n",
        "num_exercises = {\n",
        "    \"functions\": 10, \n",
        "    \"syntax\": 13, \n",
        "    \"control flow\": 15, \n",
        "    \"loops\": 22, \n",
        "    \"lists\": 19, \n",
        "    \"classes\": 18, \n",
        "    \"dictionaries\": 18\n",
        "}\n",
        "\n",
        "# Calculate total exercises across all topics\n",
        "total_exercises = 0\n",
        "for exercises in num_exercises.values():\n",
        "    total_exercises += exercises\n",
        "\n",
        "print(f\"Total exercises available: {total_exercises}\")\n",
        "\n",
        "# Alternative using sum()\n",
        "total_alt = sum(num_exercises.values())\n",
        "print(f\"Total (using sum()): {total_alt}\")"
      ]
    },
    {
      "cell_type": "markdown",
      "metadata": {},
      "source": [
        "## 6. Dictionary Items with `.items()`\n",
        "\n",
        "The `.items()` method returns key-value pairs as tuples, allowing you to iterate over both keys and values simultaneously. This is the most common way to loop through dictionaries.\n",
        "\n",
        "**Syntax in loops:** `for key, value in dict.items():`\n",
        "\n",
        "**Use Cases:**\n",
        "- Processing both keys and values together\n",
        "- Formatting output that includes both pieces of information\n",
        "- Filtering or transforming dictionary data"
      ]
    },
    {
      "cell_type": "code",
      "execution_count": null,
      "metadata": {},
      "outputs": [],
      "source": [
        "# Iterating over key-value pairs\n",
        "pct_women_in_occupation = {\n",
        "    \"CEO\": 28, \n",
        "    \"Engineering Manager\": 9, \n",
        "    \"Pharmacist\": 58, \n",
        "    \"Physician\": 40, \n",
        "    \"Lawyer\": 37, \n",
        "    \"Aerospace Engineer\": 9\n",
        "}\n",
        "\n",
        "# Create formatted output using both keys and values\n",
        "for occupation, percentage in pct_women_in_occupation.items():\n",
        "    print(f\"Women make up {percentage} percent of {occupation}s.\")"
      ]
    },
    {
      "cell_type": "markdown",
      "metadata": {},
      "source": [
        "## 7. Advanced Dictionary Manipulation\n",
        "\n",
        "This example combines multiple dictionary operations:\n",
        "- Using `.pop()` to remove and retrieve values\n",
        "- Building a new dictionary from existing data\n",
        "- Iterating with `.items()` for formatted output\n",
        "\n",
        "**Real-world Application:** This pattern is common in game development, data processing, and any scenario where you need to move data between collections."
      ]
    },
    {
      "cell_type": "code",
      "execution_count": null,
      "metadata": {},
      "outputs": [],
      "source": [
        "# Advanced dictionary manipulation - Tarot card reading simulator\n",
        "tarot = {\n",
        "    1: \"The Magician\", 2: \"The High Priestess\", 3: \"The Empress\", \n",
        "    4: \"The Emperor\", 5: \"The Hierophant\", 6: \"The Lovers\", \n",
        "    7: \"The Chariot\", 8: \"Strength\", 9: \"The Hermit\", \n",
        "    10: \"Wheel of Fortune\", 11: \"Justice\", 12: \"The Hanged Man\", \n",
        "    13: \"Death\", 14: \"Temperance\", 15: \"The Devil\", \n",
        "    16: \"The Tower\", 17: \"The Star\", 18: \"The Moon\", \n",
        "    19: \"The Sun\", 20: \"Judgement\", 21: \"The World\", 22: \"The Fool\"\n",
        "}\n",
        "\n",
        "# Create a three-card spread by removing cards from the deck\n",
        "spread = {}\n",
        "spread[\"past\"] = tarot.pop(13)     # Remove \"Death\" card\n",
        "spread[\"present\"] = tarot.pop(22)  # Remove \"The Fool\" card  \n",
        "spread[\"future\"] = tarot.pop(10)   # Remove \"Wheel of Fortune\" card\n",
        "\n",
        "# Display the reading\n",
        "for time_period, card_name in spread.items():\n",
        "    print(f\"Your {time_period} is the {card_name} card.\")\n",
        "\n",
        "print(f\"\\nCards remaining in deck: {len(tarot)}\")"
      ]
    },
    {
      "cell_type": "markdown",
      "metadata": {},
      "source": [
        "## Summary of Dictionary Methods\n",
        "\n",
        "| Method | Purpose | Returns | Safe? |\n",
        "|--------|---------|---------|-------|\n",
        "| `dict[key]` | Access value | Value | No - raises KeyError if key missing |\n",
        "| `dict.get(key, default)` | Safe access | Value or default | Yes - returns default if key missing |\n",
        "| `dict.pop(key, default)` | Remove & return | Value or default | Yes - returns default if key missing |\n",
        "| `dict.keys()` | Get all keys | View object | N/A |\n",
        "| `dict.values()` | Get all values | View object | N/A |\n",
        "| `dict.items()` | Get key-value pairs | View object | N/A |\n",
        "| `key in dict` | Check membership | Boolean | Yes |\n",
        "\n",
        "## Best Practices\n",
        "\n",
        "1. **Use `.get()` when a key might not exist** - prevents crashes\n",
        "2. **Use `.items()` when you need both keys and values** - most efficient for iteration\n",
        "3. **Use `.pop()` for safe removal** - especially useful with default values\n",
        "4. **Check membership with `in`** - before accessing uncertain keys\n",
        "5. **Convert views to lists** if you need to modify during iteration\n",
        "\n",
        "## Next Steps\n",
        "\n",
        "Try modifying these examples with your own data! Dictionaries are fundamental to Python programming and appear in web development, data analysis, configuration management, and many other applications."
      ]
    }
  ],
  "metadata": {
    "kernelspec": {
      "display_name": "Python 3",
      "language": "python",
      "name": "python3"
    },
    "language_info": {
      "codemirror_mode": {
        "name": "ipython",
        "version": 3
      },
      "file_extension": ".py",
      "mimetype": "text/x-python",
      "name": "python",
      "nbconvert_exporter": "python",
      "pygments_lexer": "ipython3",
      "version": "3.8.5"
    }
  },
  "nbformat": 4,
  "nbformat_minor": 4
}